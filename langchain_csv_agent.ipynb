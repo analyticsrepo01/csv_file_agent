{
 "cells": [
  {
   "cell_type": "markdown",
   "metadata": {
    "colab_type": "text",
    "id": "view-in-github"
   },
   "source": [
    "<a href=\"https://colab.research.google.com/github/tonykipkemboi/langchain-csv-agent-gpt-4o/blob/main/langchain_csv_agent.ipynb\" target=\"_parent\"><img src=\"https://colab.research.google.com/assets/colab-badge.svg\" alt=\"Open In Colab\"/></a>"
   ]
  },
  {
   "cell_type": "markdown",
   "metadata": {
    "id": "XiyYtJenxnCO"
   },
   "source": [
    "# **Introduction**\n",
    "This tutorial will guide you through the process of using LangChain agents to analyze CSV data.\n",
    "\n",
    "*   We'll be using Google Colab as our\n",
    "development environment, which provides a convenient platform for running Python code and installing necessary packages.\n",
    "\n",
    "* LangChain is a powerful framework for developing applications powered by language models.\n",
    "\n",
    "* In this tutorial, we'll focus on using LangChain's CSV agent, which allows us to interact with CSV data using natural language queries.\n",
    "\n",
    "![improved-horizontal-langchain-csv-agent-flowchart.svg](data:image/svg+xml;base64,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)"
   ]
  },
  {
   "cell_type": "markdown",
   "metadata": {
    "id": "EvfFkCXayI-B"
   },
   "source": [
    "## Install dependencies"
   ]
  },
  {
   "cell_type": "code",
   "execution_count": 1,
   "metadata": {
    "id": "IJyu03DYvSMh"
   },
   "outputs": [
    {
     "name": "stdout",
     "output_type": "stream",
     "text": [
      "\u001b[31mERROR: pip's dependency resolver does not currently take into account all the packages that are installed. This behaviour is the source of the following dependency conflicts.\n",
      "google-api-python-client 1.8.0 requires google-api-core<2dev,>=1.13.0, but you have google-api-core 2.21.0 which is incompatible.\n",
      "kfp 2.5.0 requires kubernetes<27,>=8.0.0, but you have kubernetes 31.0.0 which is incompatible.\n",
      "kfp 2.5.0 requires requests-toolbelt<1,>=0.8.0, but you have requests-toolbelt 1.0.0 which is incompatible.\n",
      "kfp 2.5.0 requires urllib3<2.0.0, but you have urllib3 2.2.3 which is incompatible.\u001b[0m\u001b[31m\n",
      "\u001b[0m"
     ]
    }
   ],
   "source": [
    "!pip install --q langchain langchain_experimental pandas langchain_google_vertexai"
   ]
  },
  {
   "cell_type": "markdown",
   "metadata": {
    "id": "MSR3gJ3eytis"
   },
   "source": [
    "## Import libraries and set up Gemini Google"
   ]
  },
  {
   "cell_type": "code",
   "execution_count": 2,
   "metadata": {
    "tags": []
   },
   "outputs": [],
   "source": [
    "import re\n",
    "\n",
    "PROJECT_ID = !(gcloud config get-value core/project)\n",
    "PROJECT_ID = PROJECT_ID[0]\n",
    "\n",
    "SVC_ACC = !(gcloud config get-value core/account)\n",
    "SVC_ACC = SVC_ACC[0]\n",
    "\n",
    "PROJECT_NUMBER=str(re.search(r'\\d+', SVC_ACC).group())\n",
    "\n",
    "LOCATION=\"us-central1\"\n",
    "\n",
    "FOLDER_NAME=\".\""
   ]
  },
  {
   "cell_type": "code",
   "execution_count": 3,
   "metadata": {
    "id": "2jebWzNLy2ma",
    "tags": []
   },
   "outputs": [],
   "source": [
    "from langchain.agents.agent_types import AgentType\n",
    "from langchain_experimental.agents.agent_toolkits import create_csv_agent\n",
    "\n",
    "from langchain_experimental.agents import create_csv_agent\n",
    "from langchain_google_vertexai import ChatVertexAI\n",
    "import uuid, os\n",
    "\n",
    "# Initialize Gemini LLM\n",
    "llm = ChatVertexAI(\n",
    "    model_name=\"gemini-1.5-pro-001\", # Replace with your desired Gemini model\n",
    "    project_id=os.getenv(PROJECT_ID), # Your Vertex AI project ID\n",
    "    location=LOCATION, # Your Vertex AI location\n",
    ")\n",
    "\n",
    "# agent_executor = create_pandas_dataframe_agent(\n",
    "#     llm,\n",
    "#     \"titanic.csv\",\n",
    "#     agent_type=\"openai-tools\",\n",
    "#     verbose=True\n",
    "# )"
   ]
  },
  {
   "cell_type": "markdown",
   "metadata": {
    "id": "zjWlu6t9zujy"
   },
   "source": [
    "## Upload CSV files"
   ]
  },
  {
   "cell_type": "markdown",
   "metadata": {
    "id": "xRGLBHA_bxIm"
   },
   "source": [
    "#### Consumer complaint database data\n",
    "\n",
    "> The Consumer Complaint Database is a collection of complaints about consumer financial products and services. Complaints are published after the company responds, confirming a commercial relationship with the consumer, or after 15 days, whichever comes first. Complaints referred to other regulators, such as complaints about depository institutions with less than $10 billion in assets, are not published in the Consumer Complaint Database. The database generally updates daily.\n",
    "\n",
    "\n",
    "▶ [data.gov/dataset/consumer-complaint-database](https://catalog.data.gov/dataset/consumer-complaint-database)"
   ]
  },
  {
   "cell_type": "code",
   "execution_count": 4,
   "metadata": {
    "id": "Dz2nsAs6Zy2Y"
   },
   "outputs": [],
   "source": [
    "import pandas as pd\n",
    "import functools\n",
    "\n",
    "@functools.lru_cache(maxsize=1)\n",
    "def load_data_1(url):\n",
    "    dtype = {\n",
    "        'Complaint ID': str,\n",
    "        'Product': str,\n",
    "        'Sub-product': str,\n",
    "        'Issue': str,\n",
    "        'Sub-issue': str,\n",
    "        'State': str,\n",
    "        'ZIP code': str,\n",
    "        'Submitted via': str,\n",
    "        'Date received': str,\n",
    "        'Date sent to company': str,\n",
    "        'Company': str,\n",
    "        'Company response to consumer': str,\n",
    "        'Timely response?': str,\n",
    "        'Consumer disputed?': str,\n",
    "        'Complaint narrative': str,\n",
    "        'Company public response': str,\n",
    "        'Tags': str,\n",
    "        'Consumer consent provided?': str,\n",
    "        'Company': str,\n",
    "        'State': str,\n",
    "        'ZIP code': str,\n",
    "        'Tags': str,\n",
    "        'Consumer consent provided?': str,\n",
    "        'Submitted via': str,\n",
    "        'Date received': str,\n",
    "        'Date sent to company': str,\n",
    "        'Company response to consumer': str,\n",
    "        'Timely response?': str,\n",
    "        'Consumer disputed?': str,\n",
    "        'Complaint narrative': str,\n",
    "        'Company public response': str,\n",
    "    }\n",
    "\n",
    "    df = pd.read_csv(url, dtype=dtype, compression='zip')\n",
    "    return df"
   ]
  },
  {
   "cell_type": "code",
   "execution_count": 5,
   "metadata": {
    "colab": {
     "base_uri": "https://localhost:8080/",
     "height": 712
    },
    "id": "B8-TDJM9WJ75",
    "outputId": "2f604122-c7b3-472a-e6aa-647dd3c9053d"
   },
   "outputs": [
    {
     "data": {
      "text/html": [
       "<div>\n",
       "<style scoped>\n",
       "    .dataframe tbody tr th:only-of-type {\n",
       "        vertical-align: middle;\n",
       "    }\n",
       "\n",
       "    .dataframe tbody tr th {\n",
       "        vertical-align: top;\n",
       "    }\n",
       "\n",
       "    .dataframe thead th {\n",
       "        text-align: right;\n",
       "    }\n",
       "</style>\n",
       "<table border=\"1\" class=\"dataframe\">\n",
       "  <thead>\n",
       "    <tr style=\"text-align: right;\">\n",
       "      <th></th>\n",
       "      <th>Date received</th>\n",
       "      <th>Product</th>\n",
       "      <th>Sub-product</th>\n",
       "      <th>Issue</th>\n",
       "      <th>Sub-issue</th>\n",
       "      <th>Consumer complaint narrative</th>\n",
       "      <th>Company public response</th>\n",
       "      <th>Company</th>\n",
       "      <th>State</th>\n",
       "      <th>ZIP code</th>\n",
       "      <th>Tags</th>\n",
       "      <th>Consumer consent provided?</th>\n",
       "      <th>Submitted via</th>\n",
       "      <th>Date sent to company</th>\n",
       "      <th>Company response to consumer</th>\n",
       "      <th>Timely response?</th>\n",
       "      <th>Consumer disputed?</th>\n",
       "      <th>Complaint ID</th>\n",
       "    </tr>\n",
       "  </thead>\n",
       "  <tbody>\n",
       "    <tr>\n",
       "      <th>0</th>\n",
       "      <td>2024-09-18</td>\n",
       "      <td>Credit reporting or other personal consumer re...</td>\n",
       "      <td>Other personal consumer report</td>\n",
       "      <td>Incorrect information on your report</td>\n",
       "      <td>Information belongs to someone else</td>\n",
       "      <td>NaN</td>\n",
       "      <td>NaN</td>\n",
       "      <td>ENCORE CAPITAL GROUP INC.</td>\n",
       "      <td>FL</td>\n",
       "      <td>34472</td>\n",
       "      <td>NaN</td>\n",
       "      <td>NaN</td>\n",
       "      <td>Web</td>\n",
       "      <td>2024-09-18</td>\n",
       "      <td>Closed with explanation</td>\n",
       "      <td>Yes</td>\n",
       "      <td>NaN</td>\n",
       "      <td>10169554</td>\n",
       "    </tr>\n",
       "    <tr>\n",
       "      <th>1</th>\n",
       "      <td>2024-09-19</td>\n",
       "      <td>Student loan</td>\n",
       "      <td>Private student loan</td>\n",
       "      <td>Struggling to repay your loan</td>\n",
       "      <td>Bankruptcy</td>\n",
       "      <td>NaN</td>\n",
       "      <td>NaN</td>\n",
       "      <td>CL Holdings LLC</td>\n",
       "      <td>KY</td>\n",
       "      <td>40160</td>\n",
       "      <td>NaN</td>\n",
       "      <td>NaN</td>\n",
       "      <td>Web</td>\n",
       "      <td>2024-09-19</td>\n",
       "      <td>In progress</td>\n",
       "      <td>Yes</td>\n",
       "      <td>NaN</td>\n",
       "      <td>10169752</td>\n",
       "    </tr>\n",
       "    <tr>\n",
       "      <th>2</th>\n",
       "      <td>2024-07-24</td>\n",
       "      <td>Credit reporting or other personal consumer re...</td>\n",
       "      <td>Credit reporting</td>\n",
       "      <td>Problem with a company's investigation into an...</td>\n",
       "      <td>Their investigation did not fix an error on yo...</td>\n",
       "      <td>NaN</td>\n",
       "      <td>NaN</td>\n",
       "      <td>EQUIFAX, INC.</td>\n",
       "      <td>GA</td>\n",
       "      <td>30052</td>\n",
       "      <td>NaN</td>\n",
       "      <td>Consent not provided</td>\n",
       "      <td>Web</td>\n",
       "      <td>2024-07-24</td>\n",
       "      <td>Closed with non-monetary relief</td>\n",
       "      <td>Yes</td>\n",
       "      <td>NaN</td>\n",
       "      <td>9604836</td>\n",
       "    </tr>\n",
       "    <tr>\n",
       "      <th>3</th>\n",
       "      <td>2024-07-27</td>\n",
       "      <td>Credit card</td>\n",
       "      <td>General-purpose credit card or charge card</td>\n",
       "      <td>Advertising and marketing, including promotion...</td>\n",
       "      <td>Didn't receive advertised or promotional terms</td>\n",
       "      <td>Hello, I got the capital one XXXX credit card ...</td>\n",
       "      <td>NaN</td>\n",
       "      <td>CAPITAL ONE FINANCIAL CORPORATION</td>\n",
       "      <td>NY</td>\n",
       "      <td>10032</td>\n",
       "      <td>NaN</td>\n",
       "      <td>Consent provided</td>\n",
       "      <td>Web</td>\n",
       "      <td>2024-07-27</td>\n",
       "      <td>Closed with explanation</td>\n",
       "      <td>Yes</td>\n",
       "      <td>NaN</td>\n",
       "      <td>9634523</td>\n",
       "    </tr>\n",
       "    <tr>\n",
       "      <th>4</th>\n",
       "      <td>2024-07-01</td>\n",
       "      <td>Credit reporting or other personal consumer re...</td>\n",
       "      <td>Credit reporting</td>\n",
       "      <td>Incorrect information on your report</td>\n",
       "      <td>Information belongs to someone else</td>\n",
       "      <td>NaN</td>\n",
       "      <td>Company has responded to the consumer and the ...</td>\n",
       "      <td>TRANSUNION INTERMEDIATE HOLDINGS, INC.</td>\n",
       "      <td>GA</td>\n",
       "      <td>30253</td>\n",
       "      <td>NaN</td>\n",
       "      <td>Consent not provided</td>\n",
       "      <td>Web</td>\n",
       "      <td>2024-07-01</td>\n",
       "      <td>Closed with non-monetary relief</td>\n",
       "      <td>Yes</td>\n",
       "      <td>NaN</td>\n",
       "      <td>9390464</td>\n",
       "    </tr>\n",
       "  </tbody>\n",
       "</table>\n",
       "</div>"
      ],
      "text/plain": [
       "  Date received                                            Product  \\\n",
       "0    2024-09-18  Credit reporting or other personal consumer re...   \n",
       "1    2024-09-19                                       Student loan   \n",
       "2    2024-07-24  Credit reporting or other personal consumer re...   \n",
       "3    2024-07-27                                        Credit card   \n",
       "4    2024-07-01  Credit reporting or other personal consumer re...   \n",
       "\n",
       "                                  Sub-product  \\\n",
       "0              Other personal consumer report   \n",
       "1                        Private student loan   \n",
       "2                            Credit reporting   \n",
       "3  General-purpose credit card or charge card   \n",
       "4                            Credit reporting   \n",
       "\n",
       "                                               Issue  \\\n",
       "0               Incorrect information on your report   \n",
       "1                      Struggling to repay your loan   \n",
       "2  Problem with a company's investigation into an...   \n",
       "3  Advertising and marketing, including promotion...   \n",
       "4               Incorrect information on your report   \n",
       "\n",
       "                                           Sub-issue  \\\n",
       "0                Information belongs to someone else   \n",
       "1                                         Bankruptcy   \n",
       "2  Their investigation did not fix an error on yo...   \n",
       "3     Didn't receive advertised or promotional terms   \n",
       "4                Information belongs to someone else   \n",
       "\n",
       "                        Consumer complaint narrative  \\\n",
       "0                                                NaN   \n",
       "1                                                NaN   \n",
       "2                                                NaN   \n",
       "3  Hello, I got the capital one XXXX credit card ...   \n",
       "4                                                NaN   \n",
       "\n",
       "                             Company public response  \\\n",
       "0                                                NaN   \n",
       "1                                                NaN   \n",
       "2                                                NaN   \n",
       "3                                                NaN   \n",
       "4  Company has responded to the consumer and the ...   \n",
       "\n",
       "                                  Company State ZIP code Tags  \\\n",
       "0               ENCORE CAPITAL GROUP INC.    FL    34472  NaN   \n",
       "1                         CL Holdings LLC    KY    40160  NaN   \n",
       "2                           EQUIFAX, INC.    GA    30052  NaN   \n",
       "3       CAPITAL ONE FINANCIAL CORPORATION    NY    10032  NaN   \n",
       "4  TRANSUNION INTERMEDIATE HOLDINGS, INC.    GA    30253  NaN   \n",
       "\n",
       "  Consumer consent provided? Submitted via Date sent to company  \\\n",
       "0                        NaN           Web           2024-09-18   \n",
       "1                        NaN           Web           2024-09-19   \n",
       "2       Consent not provided           Web           2024-07-24   \n",
       "3           Consent provided           Web           2024-07-27   \n",
       "4       Consent not provided           Web           2024-07-01   \n",
       "\n",
       "      Company response to consumer Timely response? Consumer disputed?  \\\n",
       "0          Closed with explanation              Yes                NaN   \n",
       "1                      In progress              Yes                NaN   \n",
       "2  Closed with non-monetary relief              Yes                NaN   \n",
       "3          Closed with explanation              Yes                NaN   \n",
       "4  Closed with non-monetary relief              Yes                NaN   \n",
       "\n",
       "  Complaint ID  \n",
       "0     10169554  \n",
       "1     10169752  \n",
       "2      9604836  \n",
       "3      9634523  \n",
       "4      9390464  "
      ]
     },
     "execution_count": 5,
     "metadata": {},
     "output_type": "execute_result"
    }
   ],
   "source": [
    "consumer_complaint_data = load_data_1('https://files.consumerfinance.gov/ccdb/complaints.csv.zip')\n",
    "consumer_complaint_data.head()"
   ]
  },
  {
   "cell_type": "code",
   "execution_count": 6,
   "metadata": {
    "id": "xEJEEOkabCKJ"
   },
   "outputs": [],
   "source": [
    "# Save dataset as CSV\n",
    "consumer_complaint_data.to_csv('./content/consumer_complaint_data.csv', index=False)"
   ]
  },
  {
   "cell_type": "markdown",
   "metadata": {
    "id": "ef5hzalHcfSe"
   },
   "source": [
    "#### FDIC failed bank list dataset\n",
    "\n",
    "> The FDIC is often appointed as receiver for failed banks. This list includes banks which have failed since October 1, 2000.\n",
    "\n",
    "▶ [data.gov/dataset/fdic-failed-bank-list](https://catalog.data.gov/dataset/fdic-failed-bank-list)\n"
   ]
  },
  {
   "cell_type": "code",
   "execution_count": 7,
   "metadata": {
    "id": "5outOlVlzByt"
   },
   "outputs": [],
   "source": [
    "@functools.lru_cache(maxsize=1)\n",
    "def load_data_2(url):\n",
    "    try:\n",
    "        df = pd.read_csv(url, encoding='utf-8')\n",
    "    except pd.errors.ParserError as e:\n",
    "        error_message = str(e)\n",
    "        line_number = int(error_message.split(\"line \")[1].split(\",\")[0])  # Extract line number from error\n",
    "\n",
    "        with open(url, 'r', encoding='utf-8') as file:\n",
    "            for i, line in enumerate(file):\n",
    "                if i + 1 == line_number:\n",
    "                    print(f\"Problematic line {line_number}: {line}\")\n",
    "                    break\n",
    "        df = pd.read_csv(url, encoding='utf-8')\n",
    "    return df\n",
    "\n",
    "  # try:\n",
    "  #   df = pd.read_csv(url, encoding='utf-8')\n",
    "  # except UnicodeDecodeError:\n",
    "  #   df = pd.read_csv(url, encoding='latin-1')\n",
    "  # return df\n"
   ]
  },
  {
   "cell_type": "code",
   "execution_count": 8,
   "metadata": {
    "tags": []
   },
   "outputs": [
    {
     "name": "stdout",
     "output_type": "stream",
     "text": [
      "--2024-10-10 02:41:40--  https://www.fdic.gov/system/files/2024-07/banklist.csv\n",
      "Resolving www.fdic.gov (www.fdic.gov)... 23.222.16.32, 23.222.16.73, 2600:1408:ac00::17de:1049, ...\n",
      "Connecting to www.fdic.gov (www.fdic.gov)|23.222.16.32|:443... connected.\n",
      "HTTP request sent, awaiting response... 200 OK\n",
      "Length: 45390 (44K) [text/csv]\n",
      "Saving to: ‘banklist.csv.4’\n",
      "\n",
      "banklist.csv.4      100%[===================>]  44.33K  --.-KB/s    in 0.04s   \n",
      "\n",
      "2024-10-10 02:41:41 (1.22 MB/s) - ‘banklist.csv.4’ saved [45390/45390]\n",
      "\n"
     ]
    }
   ],
   "source": [
    "!wget https://www.fdic.gov/system/files/2024-07/banklist.csv\n",
    "\n",
    "# https://www.fdic.gov/bank/individual/failed/banklist.csv"
   ]
  },
  {
   "cell_type": "code",
   "execution_count": 9,
   "metadata": {
    "colab": {
     "base_uri": "https://localhost:8080/",
     "height": 206
    },
    "id": "XW30YMIhYMdR",
    "outputId": "b189230b-dbf3-41d3-e62f-d07062536ceb"
   },
   "outputs": [
    {
     "data": {
      "text/html": [
       "<div>\n",
       "<style scoped>\n",
       "    .dataframe tbody tr th:only-of-type {\n",
       "        vertical-align: middle;\n",
       "    }\n",
       "\n",
       "    .dataframe tbody tr th {\n",
       "        vertical-align: top;\n",
       "    }\n",
       "\n",
       "    .dataframe thead th {\n",
       "        text-align: right;\n",
       "    }\n",
       "</style>\n",
       "<table border=\"1\" class=\"dataframe\">\n",
       "  <thead>\n",
       "    <tr style=\"text-align: right;\">\n",
       "      <th></th>\n",
       "      <th>Bank Name</th>\n",
       "      <th>City</th>\n",
       "      <th>State</th>\n",
       "      <th>Cert</th>\n",
       "      <th>Acquiring Institution</th>\n",
       "      <th>Closing Date</th>\n",
       "      <th>Fund</th>\n",
       "    </tr>\n",
       "  </thead>\n",
       "  <tbody>\n",
       "    <tr>\n",
       "      <th>0</th>\n",
       "      <td>Republic First Bank dba Republic Bank</td>\n",
       "      <td>Philadelphia</td>\n",
       "      <td>PA</td>\n",
       "      <td>27332</td>\n",
       "      <td>Fulton Bank, National Association</td>\n",
       "      <td>26-Apr-24</td>\n",
       "      <td>10546</td>\n",
       "    </tr>\n",
       "    <tr>\n",
       "      <th>1</th>\n",
       "      <td>Citizens Bank</td>\n",
       "      <td>Sac City</td>\n",
       "      <td>IA</td>\n",
       "      <td>8758</td>\n",
       "      <td>Iowa Trust &amp; Savings Bank</td>\n",
       "      <td>3-Nov-23</td>\n",
       "      <td>10545</td>\n",
       "    </tr>\n",
       "    <tr>\n",
       "      <th>2</th>\n",
       "      <td>Heartland Tri-State Bank</td>\n",
       "      <td>Elkhart</td>\n",
       "      <td>KS</td>\n",
       "      <td>25851</td>\n",
       "      <td>Dream First Bank, N.A.</td>\n",
       "      <td>28-Jul-23</td>\n",
       "      <td>10544</td>\n",
       "    </tr>\n",
       "    <tr>\n",
       "      <th>3</th>\n",
       "      <td>First Republic Bank</td>\n",
       "      <td>San Francisco</td>\n",
       "      <td>CA</td>\n",
       "      <td>59017</td>\n",
       "      <td>JPMorgan Chase Bank, N.A.</td>\n",
       "      <td>1-May-23</td>\n",
       "      <td>10543</td>\n",
       "    </tr>\n",
       "    <tr>\n",
       "      <th>4</th>\n",
       "      <td>Signature Bank</td>\n",
       "      <td>New York</td>\n",
       "      <td>NY</td>\n",
       "      <td>57053</td>\n",
       "      <td>Flagstar Bank, N.A.</td>\n",
       "      <td>12-Mar-23</td>\n",
       "      <td>10540</td>\n",
       "    </tr>\n",
       "  </tbody>\n",
       "</table>\n",
       "</div>"
      ],
      "text/plain": [
       "                               Bank Name           City State   Cert  \\\n",
       "0  Republic First Bank dba Republic Bank   Philadelphia    PA  27332   \n",
       "1                          Citizens Bank       Sac City    IA   8758   \n",
       "2               Heartland Tri-State Bank        Elkhart    KS  25851   \n",
       "3                    First Republic Bank  San Francisco    CA  59017   \n",
       "4                         Signature Bank       New York    NY  57053   \n",
       "\n",
       "               Acquiring Institution Closing Date   Fund  \n",
       "0  Fulton Bank, National Association    26-Apr-24  10546  \n",
       "1          Iowa Trust & Savings Bank     3-Nov-23  10545  \n",
       "2             Dream First Bank, N.A.    28-Jul-23  10544  \n",
       "3          JPMorgan Chase Bank, N.A.     1-May-23  10543  \n",
       "4                Flagstar Bank, N.A.    12-Mar-23  10540  "
      ]
     },
     "execution_count": 9,
     "metadata": {},
     "output_type": "execute_result"
    }
   ],
   "source": [
    "failed_banks = load_data_2('./banklist.csv')\n",
    "failed_banks.head()"
   ]
  },
  {
   "cell_type": "code",
   "execution_count": 10,
   "metadata": {
    "id": "KYvy3L76iC1n"
   },
   "outputs": [],
   "source": [
    "# Save dataset as CSV\n",
    "failed_banks.to_csv('./content/failed_banks_data.csv', index=False)"
   ]
  },
  {
   "cell_type": "markdown",
   "metadata": {
    "id": "7-Qic2Gc3FOg"
   },
   "source": [
    "## Query CSV file"
   ]
  },
  {
   "cell_type": "markdown",
   "metadata": {
    "id": "PFw9bSD30Zb1"
   },
   "source": [
    "#### Instantiate CSV agent"
   ]
  },
  {
   "cell_type": "code",
   "execution_count": 11,
   "metadata": {
    "tags": []
   },
   "outputs": [],
   "source": [
    "PROJECT_ID = \"my-project-0004-346516\"\n",
    "# Initialize Gemini LLM\n",
    "llm = ChatVertexAI(\n",
    "    model_name='gemini-1.5-pro-001', #\"gemini-pro\", # Replace with your desired Gemini model\n",
    "    project_id=os.getenv(PROJECT_ID), # Your Vertex AI project ID\n",
    "    location=\"us-central1\", # Your Vertex AI location\n",
    ")"
   ]
  },
  {
   "cell_type": "code",
   "execution_count": 12,
   "metadata": {
    "colab": {
     "base_uri": "https://localhost:8080/"
    },
    "id": "uacIE8S-0lAi",
    "outputId": "bc6b93d9-84b3-4470-b7dc-9632fa708be4"
   },
   "outputs": [],
   "source": [
    "csv_agent = create_csv_agent(\n",
    "    path=[\"./content/consumer_complaint_data.csv\", \"./content/failed_banks_data.csv\"],\n",
    "    llm=llm,\n",
    "    verbose=True,\n",
    "    agent_type=AgentType.OPENAI_FUNCTIONS,\n",
    "    allow_dangerous_code=True\n",
    ")"
   ]
  },
  {
   "cell_type": "markdown",
   "metadata": {
    "id": "ZnM1ZoHf1_un"
   },
   "source": [
    "#### Basic queries"
   ]
  },
  {
   "cell_type": "code",
   "execution_count": 20,
   "metadata": {
    "colab": {
     "base_uri": "https://localhost:8080/"
    },
    "id": "gu4BrFLV031U",
    "outputId": "bc926836-0050-4cda-bb06-cff0fe82ea1f"
   },
   "outputs": [
    {
     "name": "stdin",
     "output_type": "stream",
     "text": [
      " How many rows are there in each dataset\n"
     ]
    },
    {
     "name": "stdout",
     "output_type": "stream",
     "text": [
      "\n",
      "\n",
      "\u001b[1m> Entering new AgentExecutor chain...\u001b[0m\n",
      "\u001b[32;1m\u001b[1;3m\u001b[0m\n",
      "\n",
      "\u001b[1m> Finished chain.\u001b[0m\n"
     ]
    },
    {
     "data": {
      "text/plain": [
       "{'input': 'How many rows are there in each dataset', 'output': ''}"
      ]
     },
     "execution_count": 20,
     "metadata": {},
     "output_type": "execute_result"
    }
   ],
   "source": [
    "# 1: How many rows are there in each dataset?\n",
    "csv_agent.invoke(str(input()))"
   ]
  },
  {
   "cell_type": "code",
   "execution_count": 14,
   "metadata": {
    "colab": {
     "base_uri": "https://localhost:8080/"
    },
    "id": "i3c5tPK52F2F",
    "outputId": "f86cea03-563c-459e-8a39-d6a6460dcc3e"
   },
   "outputs": [
    {
     "name": "stdout",
     "output_type": "stream",
     "text": [
      "Consumer complaint # rows:  6347764\n",
      "Failed banks # rows:  569\n"
     ]
    }
   ],
   "source": [
    "# Confirm answer using Pandas\n",
    "print(\"Consumer complaint # rows: \", consumer_complaint_data.shape[0])\n",
    "print(\"Failed banks # rows: \",failed_banks.shape[0])"
   ]
  },
  {
   "cell_type": "code",
   "execution_count": 21,
   "metadata": {
    "colab": {
     "base_uri": "https://localhost:8080/",
     "height": 1000
    },
    "id": "6amOsujO5hU9",
    "outputId": "ea51b20c-5b00-49ac-c80e-99ece7695f18"
   },
   "outputs": [
    {
     "name": "stdin",
     "output_type": "stream",
     "text": [
      " How many rows are there in each dataset\n"
     ]
    },
    {
     "name": "stdout",
     "output_type": "stream",
     "text": [
      "\n",
      "\n",
      "\u001b[1m> Entering new AgentExecutor chain...\u001b[0m\n",
      "\u001b[32;1m\u001b[1;3m\u001b[0m\n",
      "\n",
      "\u001b[1m> Finished chain.\u001b[0m\n"
     ]
    },
    {
     "data": {
      "text/plain": [
       "{'input': 'How many rows are there in each dataset', 'output': ''}"
      ]
     },
     "execution_count": 21,
     "metadata": {},
     "output_type": "execute_result"
    }
   ],
   "source": [
    "# 1: How many rows are there in each dataset?\n",
    "csv_agent.invoke(str(input()))"
   ]
  },
  {
   "cell_type": "markdown",
   "metadata": {
    "id": "sIDUC7J1L8e1"
   },
   "source": [
    "## What is a REPL(Read-Eval-Print Loop) tool?\n",
    "\n",
    "\n",
    "> A **REPL** tool is an interactive programming environment that takes single user inputs (**R**ead), and executes them (**E**val), returns the result to the user (**P**rint), and waits for the next input (**L**oop).\n",
    "\n",
    "▶ [Python AST Module Documentation](https://docs.python.org/3/library/ast.html)\n",
    "\n",
    "\n",
    "\n"
   ]
  },
  {
   "cell_type": "code",
   "execution_count": 16,
   "metadata": {
    "id": "79iUrqKpNxia"
   },
   "outputs": [],
   "source": [
    "import ast\n",
    "import pandas as pd\n",
    "\n",
    "class PythonAstREPLTool:\n",
    "    def __init__(self, dataframe):\n",
    "        self.dataframe = dataframe\n",
    "        self.env = {'df': dataframe}  # Execution environment with DataFrame\n",
    "\n",
    "    def execute(self, code):\n",
    "        try:\n",
    "            # Parse the code into an AST\n",
    "            tree = ast.parse(code, mode='exec')\n",
    "\n",
    "            # Compile the AST into a code object\n",
    "            code_obj = compile(tree, filename=\"<ast>\", mode=\"exec\")\n",
    "\n",
    "            # Execute the compiled code in the environment\n",
    "            exec(code_obj, self.env)\n",
    "\n",
    "            # Capture the result\n",
    "            result = self.env.get('result', None)\n",
    "            return result\n",
    "        except Exception as e:\n",
    "            return str(e)"
   ]
  },
  {
   "cell_type": "code",
   "execution_count": 34,
   "metadata": {
    "colab": {
     "base_uri": "https://localhost:8080/"
    },
    "id": "iQ9ECeWNN0Nq",
    "outputId": "65cda110-e36e-408b-f728-95cc19d9a540",
    "tags": []
   },
   "outputs": [
    {
     "name": "stdout",
     "output_type": "stream",
     "text": [
      "3000\n"
     ]
    }
   ],
   "source": [
    "df = pd.read_csv('./content/sample_data/california_housing_test.csv')\n",
    "repl_tool = PythonAstREPLTool(df)\n",
    "\n",
    "# Code to get the number of rows\n",
    "code = \"result = df.shape[0]\"\n",
    "print(repl_tool.execute(code))  # Should print 3000 as number of rows"
   ]
  },
  {
   "cell_type": "markdown",
   "metadata": {},
   "source": [
    "## Using Langchain packages"
   ]
  },
  {
   "cell_type": "code",
   "execution_count": 23,
   "metadata": {
    "tags": []
   },
   "outputs": [
    {
     "name": "stdout",
     "output_type": "stream",
     "text": [
      "--2024-10-10 04:40:22--  https://web.stanford.edu/class/archive/cs/cs109/cs109.1166/stuff/titanic.csv\n",
      "Resolving web.stanford.edu (web.stanford.edu)... 171.67.215.200, 2607:f6d0:0:925a::ab43:d7c8\n",
      "Connecting to web.stanford.edu (web.stanford.edu)|171.67.215.200|:443... connected.\n",
      "HTTP request sent, awaiting response... 200 OK\n",
      "Length: 44225 (43K) [text/csv]\n",
      "Saving to: ‘titanic.csv’\n",
      "\n",
      "titanic.csv         100%[===================>]  43.19K  --.-KB/s    in 0.1s    \n",
      "\n",
      "2024-10-10 04:40:23 (386 KB/s) - ‘titanic.csv’ saved [44225/44225]\n",
      "\n"
     ]
    }
   ],
   "source": [
    "!wget https://web.stanford.edu/class/archive/cs/cs109/cs109.1166/stuff/titanic.csv -O titanic.csv\n"
   ]
  },
  {
   "cell_type": "code",
   "execution_count": 24,
   "metadata": {
    "tags": []
   },
   "outputs": [
    {
     "name": "stdout",
     "output_type": "stream",
     "text": [
      "(887, 8)\n",
      "['Survived', 'Pclass', 'Name', 'Sex', 'Age', 'Siblings/Spouses Aboard', 'Parents/Children Aboard', 'Fare']\n"
     ]
    }
   ],
   "source": [
    "import pandas as pd\n",
    "\n",
    "df = pd.read_csv(\"titanic.csv\")\n",
    "print(df.shape)\n",
    "print(df.columns.tolist())"
   ]
  },
  {
   "cell_type": "code",
   "execution_count": 25,
   "metadata": {
    "tags": []
   },
   "outputs": [
    {
     "data": {
      "text/plain": [
       "887"
      ]
     },
     "execution_count": 25,
     "metadata": {},
     "output_type": "execute_result"
    }
   ],
   "source": [
    "from langchain_community.utilities import SQLDatabase\n",
    "from sqlalchemy import create_engine\n",
    "\n",
    "engine = create_engine(\"sqlite:///titanic.db\")\n",
    "df.to_sql(\"titanic\", engine, index=False)"
   ]
  },
  {
   "cell_type": "code",
   "execution_count": 26,
   "metadata": {
    "tags": []
   },
   "outputs": [
    {
     "name": "stdout",
     "output_type": "stream",
     "text": [
      "sqlite\n",
      "['titanic']\n"
     ]
    },
    {
     "data": {
      "text/plain": [
       "\"[(1, 2, 'Master. Alden Gates Caldwell', 'male', 0.83, 0, 2, 29.0), (0, 3, 'Master. Eino Viljami Panula', 'male', 1.0, 4, 1, 39.6875), (1, 3, 'Miss. Eleanor Ileen Johnson', 'female', 1.0, 1, 1, 11.1333), (1, 2, 'Master. Richard F Becker', 'male', 1.0, 2, 1, 39.0), (1, 1, 'Master. Hudson Trevor Allison', 'male', 0.92, 1, 2, 151.55), (1, 3, 'Miss. Maria Nakid', 'female', 1.0, 0, 2, 15.7417), (0, 3, 'Master. Sidney Leonard Goodwin', 'male', 1.0, 5, 2, 46.9), (1, 3, 'Miss. Helene Barbara Baclini', 'female', 0.75, 2, 1, 19.2583), (1, 3, 'Miss. Eugenie Baclini', 'female', 0.75, 2, 1, 19.2583), (1, 2, 'Master. Viljo Hamalainen', 'male', 0.67, 1, 1, 14.5), (1, 3, 'Master. Bertram Vere Dean', 'male', 1.0, 1, 2, 20.575), (1, 3, 'Master. Assad Alexander Thomas', 'male', 0.42, 0, 1, 8.5167), (1, 2, 'Master. Andre Mallet', 'male', 1.0, 0, 2, 37.0042), (1, 2, 'Master. George Sibley Richards', 'male', 0.83, 1, 1, 18.75)]\""
      ]
     },
     "execution_count": 26,
     "metadata": {},
     "output_type": "execute_result"
    }
   ],
   "source": [
    "db = SQLDatabase(engine=engine)\n",
    "print(db.dialect)\n",
    "print(db.get_usable_table_names())\n",
    "db.run(\"SELECT * FROM titanic WHERE Age < 2;\")"
   ]
  },
  {
   "cell_type": "code",
   "execution_count": 27,
   "metadata": {
    "tags": []
   },
   "outputs": [
    {
     "name": "stdout",
     "output_type": "stream",
     "text": [
      "sagemaker.config INFO - Not applying SDK defaults from location: /etc/xdg/sagemaker/config.yaml\n",
      "sagemaker.config INFO - Not applying SDK defaults from location: /home/jupyter/.config/sagemaker/config.yaml\n"
     ]
    }
   ],
   "source": [
    "from crewai import Agent, Task, Crew, Process\n",
    "from crewai_tools import tool\n",
    "# from langchain_vertexai import ChatGemini\n",
    "from crewai_tools.tools import FileReadTool\n",
    "import os, requests, re, mdpdf, subprocess\n",
    "from vertexai.preview.vision_models import ImageGenerationModel\n",
    "from langchain_google_vertexai import ChatVertexAI\n",
    "import uuid, os\n",
    "\n",
    "# Initialize Gemini LLM\n",
    "llm = ChatVertexAI(\n",
    "    model_name='gemini-1.5-pro-002', #\"gemini-1.0-pro-002\", # Replace with your desired Gemini model\n",
    "    project_id=os.getenv(PROJECT_ID), # Your Vertex AI project ID\n",
    "    location=\"us-central1\", # Your Vertex AI location\n",
    ")\n"
   ]
  },
  {
   "cell_type": "code",
   "execution_count": 30,
   "metadata": {
    "tags": []
   },
   "outputs": [],
   "source": [
    "from langchain_community.agent_toolkits import create_sql_agent\n",
    "\n",
    "agent_executor = create_sql_agent(llm=llm, db=db,  verbose=True)"
   ]
  },
  {
   "cell_type": "code",
   "execution_count": 31,
   "metadata": {
    "tags": []
   },
   "outputs": [
    {
     "name": "stdout",
     "output_type": "stream",
     "text": [
      "\n",
      "\n",
      "\u001b[1m> Entering new SQL Agent Executor chain...\u001b[0m\n",
      "\u001b[32;1m\u001b[1;3mThought: I should look at the tables in the database to see what I can query.  Then I should query the schema of the most relevant tables.\n",
      "Action: sql_db_list_tables\n",
      "Action Input: \u001b[0m\u001b[38;5;200m\u001b[1;3mtitanic\u001b[0m\u001b[32;1m\u001b[1;3mI should check the schema of the titanic table for age and survived information.\n",
      "Action: sql_db_schema\n",
      "Action Input: titanic\u001b[0m\u001b[33;1m\u001b[1;3m\n",
      "CREATE TABLE titanic (\n",
      "\t\"Survived\" BIGINT, \n",
      "\t\"Pclass\" BIGINT, \n",
      "\t\"Name\" TEXT, \n",
      "\t\"Sex\" TEXT, \n",
      "\t\"Age\" FLOAT, \n",
      "\t\"Siblings/Spouses Aboard\" BIGINT, \n",
      "\t\"Parents/Children Aboard\" BIGINT, \n",
      "\t\"Fare\" FLOAT\n",
      ")\n",
      "\n",
      "/*\n",
      "3 rows from titanic table:\n",
      "Survived\tPclass\tName\tSex\tAge\tSiblings/Spouses Aboard\tParents/Children Aboard\tFare\n",
      "0\t3\tMr. Owen Harris Braund\tmale\t22.0\t1\t0\t7.25\n",
      "1\t1\tMrs. John Bradley (Florence Briggs Thayer) Cumings\tfemale\t38.0\t1\t0\t71.2833\n",
      "1\t3\tMiss. Laina Heikkinen\tfemale\t26.0\t0\t0\t7.925\n",
      "*/\u001b[0m\u001b[32;1m\u001b[1;3mI can query the titanic table for the average age of survivors.\n",
      "Action: sql_db_query_checker\n",
      "Action Input: SELECT avg(Age) FROM titanic WHERE Survived = 1\u001b[0m\u001b[36;1m\u001b[1;3m```sql\n",
      "SELECT avg(Age) FROM titanic WHERE Survived = 1\n",
      "```\u001b[0m\u001b[32;1m\u001b[1;3mThe query looks good. I'll run it now.\n",
      "Action: sql_db_query\n",
      "Action Input: SELECT avg(Age) FROM titanic WHERE Survived = 1\u001b[0m\u001b[36;1m\u001b[1;3m[(28.408391812865496,)]\u001b[0m\u001b[32;1m\u001b[1;3mI now know the final answer.\n",
      "Final Answer: The average age of survivors is 28.4.\u001b[0m\n",
      "\n",
      "\u001b[1m> Finished chain.\u001b[0m\n"
     ]
    },
    {
     "data": {
      "text/plain": [
       "{'input': \"what's the average age of survivors\",\n",
       " 'output': 'The average age of survivors is 28.4.'}"
      ]
     },
     "execution_count": 31,
     "metadata": {},
     "output_type": "execute_result"
    }
   ],
   "source": [
    "agent_executor.invoke({\"input\": \"what's the average age of survivors\"})\n",
    "\n"
   ]
  },
  {
   "cell_type": "markdown",
   "metadata": {},
   "source": [
    "## Creating advance code from python and later we execute it for the daaframe defined above."
   ]
  },
  {
   "cell_type": "code",
   "execution_count": 52,
   "metadata": {},
   "outputs": [
    {
     "name": "stdout",
     "output_type": "stream",
     "text": [
      "```python\n",
      "import pandas as pd\n",
      "\n",
      "# Assuming 'df' is your DataFrame\n",
      "correlation = df['housing_median_age'].corr(df['households'])\n",
      "\n",
      "print(correlation)\n",
      "\n",
      "```\n",
      "\n"
     ]
    }
   ],
   "source": [
    "ai_msg = llm.invoke(\n",
    "    \"I have a pandas DataFrame 'df' with columns 'housing_median_age' and 'households'. Write code to compute the correlation between the two columns. Return Markdown for a Python code snippet and nothing else.\"\n",
    ")\n",
    "print(ai_msg.content)"
   ]
  },
  {
   "cell_type": "code",
   "execution_count": 49,
   "metadata": {
    "tags": []
   },
   "outputs": [
    {
     "name": "stdout",
     "output_type": "stream",
     "text": [
      "python\n",
      "import pandas as pd\n",
      "\n",
      "# Assuming 'df' is your pandas DataFrame with 'housing_median_age' and 'households' columns\n",
      "\n",
      "correlation = df['housing_median_age'].corr(df['households'])\n",
      "print(correlation)\n",
      "\n",
      "\n"
     ]
    }
   ],
   "source": [
    "print(ai_msg.content[3:-4])"
   ]
  },
  {
   "cell_type": "code",
   "execution_count": 50,
   "metadata": {
    "tags": []
   },
   "outputs": [
    {
     "name": "stdout",
     "output_type": "stream",
     "text": [
      "-0.30517077522973896\n",
      "3000\n"
     ]
    }
   ],
   "source": [
    "# Code to get the number of rows\n",
    "code = ai_msg.content[9:-4]\n",
    "print(repl_tool.execute(code))  # Should print 3000 as number of rows"
   ]
  },
  {
   "cell_type": "code",
   "execution_count": null,
   "metadata": {},
   "outputs": [],
   "source": []
  }
 ],
 "metadata": {
  "accelerator": "GPU",
  "colab": {
   "authorship_tag": "ABX9TyP83DMOQ6YWvI5dal2x3XFz",
   "gpuType": "T4",
   "include_colab_link": true,
   "provenance": []
  },
  "environment": {
   "kernel": "conda-env-pytorch-pytorch",
   "name": "workbench-notebooks.m125",
   "type": "gcloud",
   "uri": "us-docker.pkg.dev/deeplearning-platform-release/gcr.io/workbench-notebooks:m125"
  },
  "kernelspec": {
   "display_name": "PyTorch 1-13 (Local)",
   "language": "python",
   "name": "conda-env-pytorch-pytorch"
  },
  "language_info": {
   "codemirror_mode": {
    "name": "ipython",
    "version": 3
   },
   "file_extension": ".py",
   "mimetype": "text/x-python",
   "name": "python",
   "nbconvert_exporter": "python",
   "pygments_lexer": "ipython3",
   "version": "3.10.15"
  }
 },
 "nbformat": 4,
 "nbformat_minor": 4
}
